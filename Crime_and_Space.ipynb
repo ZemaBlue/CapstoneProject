{
 "cells": [
  {
   "cell_type": "markdown",
   "metadata": {},
   "source": [
    "# Crime and Space: an Analysis of Local Amenities as a Predictor or Violent Crime"
   ]
  },
  {
   "cell_type": "markdown",
   "metadata": {},
   "source": [
    "## Week 1"
   ]
  },
  {
   "cell_type": "markdown",
   "metadata": {},
   "source": [
    "### 1. The Business Problem"
   ]
  },
  {
   "cell_type": "markdown",
   "metadata": {},
   "source": [
    "Violent crime is a problem in any major city. It would therefore be useful to urban planners to have a model that could inform their decisions in creating safer urban spaces.\n",
    "\n",
    "One factor in the incidence of violence could be the types of amenities that are found in an area. One might presume, for example, that areas with high concentrations of bars would have higher crime rates than areas without them, or that access to leisure centers might reduce crime by giving youth a healthy outlet. It might also be the case that criminality doesn’t track linearly with any one type of venue, but rather certain combinations of venue types. \n",
    "\n",
    "Whatever the case, it would be very useful to know what the corelation actually is. "
   ]
  },
  {
   "cell_type": "markdown",
   "metadata": {},
   "source": [
    "### 2. About the Data"
   ]
  },
  {
   "cell_type": "markdown",
   "metadata": {},
   "source": [
    "In this project I will construct a model which predicts the rate of violent crime in an area based on surrounding amenities. \n",
    "\n",
    "I will draw my data from the following sources:\n",
    "    \n",
    "https://data.cityofnewyork.us/api/views/8h9b-rp9u/rows.csv?accessType=DOWNLOAD - a list of every arrest in NYC going back to 2006 through the end of the previous calendar year.\n",
    "\n",
    "https://cocl.us/new_york_dataset - NYC neighbourhood data\n",
    "    \n",
    "https://opendata.arcgis.com/datasets/0c5fa2b642214e8baf0601405abccf30_0.geojson - Major Crime Indicators in Toronto, 2014-2019\n",
    "\n",
    "https://en.wikipedia.org/wiki/List_of_postal_codes_of_Canada:_M - List of neighbourhoods in Toronto\n",
    "    \n",
    "https://data.lacity.org/resource/63jg-8b9z.json - LA Crime Data from 2010-2019\n",
    "\n",
    "https://usc.data.socrata.com/api/geospatial/r8qd-yxsr?method=export&format=GeoJSON - LA neighbourhood data    \n",
    "    \n",
    "https://api.foursquare.com - geo-location and venue data\n",
    "    \n",
    "I will start by running a subset of the NYC data. For each neighbourhood, I will cross-refference violent crimes and ammenities within a 500m radius. I will then test regression and clustering models to see which is most predictive of my test set.  From there, I will test that model against the corresponding data for Toronto and Los Angeles to see if it can be generalized to other municipalities."
   ]
  },
  {
   "cell_type": "code",
   "execution_count": null,
   "metadata": {},
   "outputs": [],
   "source": []
  }
 ],
 "metadata": {
  "kernelspec": {
   "display_name": "Python 3",
   "language": "python",
   "name": "python3"
  },
  "language_info": {
   "codemirror_mode": {
    "name": "ipython",
    "version": 3
   },
   "file_extension": ".py",
   "mimetype": "text/x-python",
   "name": "python",
   "nbconvert_exporter": "python",
   "pygments_lexer": "ipython3",
   "version": "3.7.6"
  }
 },
 "nbformat": 4,
 "nbformat_minor": 4
}
